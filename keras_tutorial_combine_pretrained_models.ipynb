{
 "cells": [
  {
   "cell_type": "markdown",
   "id": "db9f648b",
   "metadata": {},
   "source": [
    "# Keras tutorial\n",
    "## Here, we use the model subclassing API to i) conjoin two pretrained models, ii) freeze the parameters of one of these models, and then iii) train them as a single unit. \n",
    "## This is a toy example to show how this can be implented in keras, as opposed to learning some useful task. \n",
    "### We also add the capability to use custom loss functions to pretrain each model, and the combined model. \n"
   ]
  },
  {
   "cell_type": "markdown",
   "id": "7235168f",
   "metadata": {},
   "source": [
    "### Import dependencies"
   ]
  },
  {
   "cell_type": "code",
   "execution_count": 1,
   "id": "ef84a3ef",
   "metadata": {},
   "outputs": [
    {
     "name": "stdout",
     "output_type": "stream",
     "text": [
      "2.9.0\n",
      "2.9.0\n"
     ]
    }
   ],
   "source": [
    "import numpy as np\n",
    "import keras\n",
    "import tensorflow as tf\n",
    "import tensorflow.keras as tk\n",
    "from tensorflow.keras import layers\n",
    "\n",
    "print(tf. __version__) \n",
    "print(keras.__version__)"
   ]
  },
  {
   "cell_type": "markdown",
   "id": "83ca4efa",
   "metadata": {},
   "source": [
    "### Load in MNIST data"
   ]
  },
  {
   "cell_type": "code",
   "execution_count": 2,
   "id": "cfef2b7e",
   "metadata": {},
   "outputs": [],
   "source": [
    "\n",
    "(x_train, y_train), (x_test, y_test) = tk.datasets.mnist.load_data()\n",
    "assert x_train.shape == (60000, 28, 28)\n",
    "assert x_test.shape == (10000, 28, 28)\n",
    "assert y_train.shape == (60000,)\n",
    "assert y_test.shape == (10000,)\n",
    "\n",
    "\n",
    "x_train = x_train.astype(np.float32)\n",
    "x_train_1 = x_train[1:200,:,:]\n",
    "x_train_2 = x_train[200:300,:,:]\n",
    "x_train_combined = np.array(x_train[300:400,:,:])\n",
    "\n",
    "x_val_1 = x_train[400:450,:,:]\n",
    "x_val_2 = x_train[450:500,:,:]\n",
    "x_val_combined = np.array(x_train[500:550,:,:])\n",
    "\n",
    "x_test_1 = x_train[550:650,:,:]\n",
    "x_test_2 =   x_train[650:750,:,:]\n",
    "x_test_combined = np.array(x_train[750:850,:,:])\n",
    "\n",
    "y_train = y_train.astype(np.float32)\n",
    "\n",
    "y_train_1 = y_train[1:200]\n",
    "y_train_2 = y_train[200:300]\n",
    "y_train_combined = np.array(y_train[300:400])\n",
    "\n",
    "y_val_1 = y_train[400:450]\n",
    "y_val_2 = y_train[450:500]\n",
    "y_val_combined = np.array(y_train[500:550])\n",
    "\n",
    "y_test_1 = y_train[550:650]\n",
    "y_test_2 = y_train[650:750]\n",
    "y_test_combined = np.array(y_train[750:850])\n"
   ]
  },
  {
   "cell_type": "markdown",
   "id": "62cff0e8",
   "metadata": {},
   "source": [
    "### Define the graph\n",
    "net_1 is a convolutional autoencoder.  \n",
    "net_2 is a classifier.  \n"
   ]
  },
  {
   "cell_type": "code",
   "execution_count": 3,
   "id": "900d238f",
   "metadata": {},
   "outputs": [],
   "source": [
    "\n",
    "\n",
    "net_input_1 = keras.Input(shape=(28, 28, 1), name=\"img\")\n",
    "x = layers.Conv2D(16, 3, activation=\"relu\",padding=\"SAME\")(net_input_1)\n",
    "x = layers.MaxPooling2D()(x)\n",
    "x = layers.Conv2D(16, 3, activation=\"relu\",padding=\"SAME\")(x)\n",
    "x = layers.UpSampling2D()(x)\n",
    "x = layers.Conv2D(16, 3, activation=\"relu\",padding=\"SAME\")(x)\n",
    "\n",
    "net_output_1 = layers.Conv2D(1, 3, activation=\"relu\",padding=\"SAME\", name=\"net_1_out\")(x)\n",
    "\n",
    "x = layers.Conv2D(16, 3, activation=\"relu\",padding=\"SAME\", name=\"model_2_lay_1\")(net_output_1)\n",
    "x = layers.Conv2D(16, 3, activation=\"relu\",padding=\"SAME\")(x)\n",
    "x = layers.MaxPooling2D()(x)\n",
    "x = layers.Conv2D(16, 3, activation=\"relu\",padding=\"SAME\")(x)\n",
    "x = layers.MaxPooling2D()(x)\n",
    "x = layers.Flatten()(x)\n",
    "net_output_2= layers.Dense(1)(x)\n"
   ]
  },
  {
   "cell_type": "markdown",
   "id": "9fbc9a27",
   "metadata": {},
   "source": [
    "### Set hyperparameters and loss functions"
   ]
  },
  {
   "cell_type": "code",
   "execution_count": 4,
   "id": "38bf0096",
   "metadata": {},
   "outputs": [],
   "source": [
    "BATCH_SIZE = 5\n",
    "EPOCHS = 10\n",
    "NET_1_WEIGHTS = None \n",
    "NET_2_WEIGHTS = None \n",
    "\n",
    "def loss_1(y_true, y_pred):\n",
    "        squared_difference = tf.square(y_true - y_pred)\n",
    "        return tf.reduce_mean(squared_difference, axis=-1)  # Note the `axis=-1`\n",
    "    \n",
    "def loss_2(y_true, y_pred):\n",
    "    squared_difference = tf.square(y_true - y_pred)\n",
    "    return tf.reduce_mean(squared_difference, axis=-1)  # Note the `axis=-1`\n",
    "    \n",
    "def loss_3(y_true, y_pred):\n",
    "    squared_difference = tf.square(y_true - y_pred)\n",
    "    return tf.reduce_mean(squared_difference, axis=-1)  # Note the `axis=-1`"
   ]
  },
  {
   "cell_type": "markdown",
   "id": "5fc2b0d8",
   "metadata": {},
   "source": [
    "### Construct models\n",
    "The combined_model is net_1 and net_2 chained together. \n",
    "The workflow is as follows, and is defiend in the fit function:  \n",
    "i) Check if weights exist for net_1 and net_2. \n",
    "ii) If so, load them in. Otherwise, pretrain each network using their respective pretrain functions. \n",
    "iii) Conjoin both models, and freeze the weights of net_1.\n",
    "iv) Train the combined model using the combined model training function. "
   ]
  },
  {
   "cell_type": "code",
   "execution_count": 5,
   "id": "45cd32c7",
   "metadata": {},
   "outputs": [],
   "source": [
    "# use self when referring to something defined within the class.\n",
    "# MyModel inherets object class - in python 3, there probably isn't a need to do this, but we keep it to illustrate potential functionality.\n",
    "\n",
    "class MyModel(object):\n",
    "    # initialise instance attributes in __init_ - these are manipulated by the functions in the class.\n",
    "    # Keras model takes variable input_shape as an input, so we include this as an input. \n",
    "    def __init__(self,input_shape):\n",
    "        # super below runs the __init__ of parent class (in this case, object).\n",
    "        # we don't really need this, but it's kept to illustrate potential functionality.\n",
    "        super(MyModel,self).__init__()\n",
    "        # input_shape variable\n",
    "        self.input_shape = input_shape\n",
    "        # net_1 is the autoencoder\n",
    "        self.net_1 = keras.Model(net_input_1, net_output_1, name=\"net_1\")\n",
    "        # net_2 is a CNN classifier appended to the pretrained net_1\n",
    "        self.net_2 = keras.Model(net_output_1, net_output_2, name=\"net_2\")\n",
    "        net_2_out = self.net_2(self.net_1.output)\n",
    "        # the combined network is the pretrained net_1 and net_2 chained together\n",
    "        self.combined_net = keras.Model(self.net_1.input, net_2_out, name=\"combined_net\")\n",
    "        \n",
    "    # we define a function that pretrains net_1, and saves the weights\n",
    "    def pretrain_net_1(self, x, x_val, batch_size=BATCH_SIZE, epochs=EPOCHS, optimizer='adam', save_dir='./'):\n",
    "        print('...Pretraining net_1...')\n",
    "        class CustomSaver(keras.callbacks.Callback):\n",
    "            def on_epoch_end(self, epoch, logs={}):\n",
    "                # we use self.model because we are inhereting the keras.callbacks.Callback class which uses the model attribute\n",
    "                self.model.save(\"net_1_{}.hd5\".format(epoch))  \n",
    "        self.net_1.compile(optimizer=optimizer, loss=loss_1)\n",
    "        #Log autoencoder module training progress\n",
    "        from keras.callbacks import CSVLogger\n",
    "        csv_logger = CSVLogger('pretrain_log_net_1.csv')\n",
    "        saver = CustomSaver()\n",
    "\n",
    "        # begin training\n",
    "        self.net_1.fit(x, x, batch_size=BATCH_SIZE, epochs=epochs, callbacks=[csv_logger,saver],validation_data=(x_val, x_val))\n",
    "        self.net_1.save(save_dir + '/pretrain_net_1_model')\n",
    "        print('Pretrained weights are saved to %s/pretrain_net_1_model' % save_dir)\n",
    "                \n",
    "    # we also define a function that pretrains net_2, and saves the weights\n",
    "    def pretrain_net_2(self, x, y, x_val, y_val, batch_size=BATCH_SIZE, epochs=EPOCHS, optimizer='adam', save_dir='./'):\n",
    "        print('...Pretraining net_2...')\n",
    "        class CustomSaver(keras.callbacks.Callback):\n",
    "            def on_epoch_end(self, epoch, logs={}):\n",
    "                # we use self.model because we are inhereting the keras.callbacks.Callback class which uses the model attribute\n",
    "                self.model.save(\"net_2_{}.hd5\".format(epoch))  \n",
    "        self.net_2.compile(optimizer=optimizer, loss=loss_2)\n",
    "        #Log autoencoder module training progress\n",
    "        from keras.callbacks import CSVLogger\n",
    "        csv_logger = CSVLogger('pretrain_log_net_2.csv')\n",
    "        saver = CustomSaver()\n",
    "\n",
    "        # begin training\n",
    "        self.net_2.fit(x, y, batch_size=BATCH_SIZE, epochs=epochs, callbacks=[csv_logger,saver],validation_data=(x_val, y_val))\n",
    "        self.net_2.save(save_dir + '/pretrain_net_2_model')\n",
    "        print('Pretrained weights are saved to %s/pretrain_net_2_model' % save_dir)\n",
    "    \n",
    "    # this function trains the combined network                    \n",
    "    def train_combined_net(self, x, y, x_val,y_val, batch_size=BATCH_SIZE, epochs=EPOCHS, optimizer='adam', save_dir='./'):\n",
    "        print('...Training combined_net...')\n",
    "        class CustomSaver(keras.callbacks.Callback):\n",
    "            def on_epoch_end(self, epoch, logs={}):\n",
    "                # we use self.model because we are inhereting the keras.callbacks.Callback class which uses the model attribute\n",
    "                self.model.save(\"combined_net_{}.hd5\".format(epoch))  \n",
    "        self.combined_net.compile(optimizer=optimizer, loss=loss_3)\n",
    "        #Log autoencoder module training progress\n",
    "        from keras.callbacks import CSVLogger\n",
    "        csv_logger = CSVLogger('pretrain_log_combined.csv')\n",
    "        saver = CustomSaver()\n",
    "        # begin training\n",
    "        self.combined_net.fit(x, y, batch_size=BATCH_SIZE, epochs=EPOCHS, callbacks=[csv_logger,saver],validation_data=(x_val, y_val))\n",
    "        self.combined_net.save(save_dir + '/train_combined_net_model')\n",
    "        print('combined model weights are saved to %s/pretrain_combined_net_model' % save_dir)\n",
    "\n",
    "        \n",
    "    # in fit, we excute the workflow described in the section's header\n",
    "    def fit(self, x_train_1, y_train_1, x_train_2, y_train_2, x_train_combined, y_train_combined, x_val_1, y_val_1, x_val_2, y_val_2, x_val_combined,y_val_combined, batch_size=BATCH_SIZE, net_1_weights=None,net_2_weights=None, save_dir='./'):\n",
    "        if net_1_weights is None:\n",
    "            print('...pretraining net_1:')\n",
    "            self.pretrain_net_1(x=x_train_1,x_val=x_val_1, batch_size=BATCH_SIZE)\n",
    "            \n",
    "        elif net_1_weights is not None:\n",
    "            print('LOADING net_1 WEIGHTS')\n",
    "            self.net_1.load_weights(net_1_weights)\n",
    "            print('net_1 weights loaded successfully.')\n",
    "            \n",
    "        if net_2_weights is None:\n",
    "            print('...pretraining net_2:')\n",
    "            self.pretrain_net_2(x_train_2, y_train_2,x_val=x_val_2, y_val=y_val_2, batch_size= BATCH_SIZE)\n",
    "            \n",
    "        elif net_2_weights is not None:\n",
    "            print('LOADING net_2 WEIGHTS')\n",
    "            self.net_2.load_weights(net_2_weights)\n",
    "            print('net_2 weights loaded successfully.')\n",
    "            \n",
    "        self.net_1.trainable = False\n",
    "        self.train_combined_net(x_train_combined, y_train_combined, x_val_combined, y_val_combined)\n"
   ]
  },
  {
   "cell_type": "code",
   "execution_count": 6,
   "id": "e3618fd5",
   "metadata": {},
   "outputs": [
    {
     "name": "stdout",
     "output_type": "stream",
     "text": [
      "Model: \"combined_net\"\n",
      "_________________________________________________________________\n",
      " Layer (type)                Output Shape              Param #   \n",
      "=================================================================\n",
      " img (InputLayer)            [(None, 28, 28, 1)]       0         \n",
      "                                                                 \n",
      " conv2d (Conv2D)             (None, 28, 28, 16)        160       \n",
      "                                                                 \n",
      " max_pooling2d (MaxPooling2D  (None, 14, 14, 16)       0         \n",
      " )                                                               \n",
      "                                                                 \n",
      " conv2d_1 (Conv2D)           (None, 14, 14, 16)        2320      \n",
      "                                                                 \n",
      " up_sampling2d (UpSampling2D  (None, 28, 28, 16)       0         \n",
      " )                                                               \n",
      "                                                                 \n",
      " conv2d_2 (Conv2D)           (None, 28, 28, 16)        2320      \n",
      "                                                                 \n",
      " net_1_out (Conv2D)          (None, 28, 28, 1)         145       \n",
      "                                                                 \n",
      " net_2 (Functional)          (None, 1)                 5585      \n",
      "                                                                 \n",
      "=================================================================\n",
      "Total params: 10,530\n",
      "Trainable params: 10,530\n",
      "Non-trainable params: 0\n",
      "_________________________________________________________________\n",
      "...pretraining net_1:\n",
      "...Pretraining net_1...\n",
      "Epoch 1/10\n",
      "36/40 [==========================>...] - ETA: 0s - loss: 2579.4114"
     ]
    },
    {
     "name": "stderr",
     "output_type": "stream",
     "text": [
      "WARNING:absl:Found untraced functions such as _jit_compiled_convolution_op, _jit_compiled_convolution_op, _jit_compiled_convolution_op, _jit_compiled_convolution_op while saving (showing 4 of 4). These functions will not be directly callable after loading.\n"
     ]
    },
    {
     "name": "stdout",
     "output_type": "stream",
     "text": [
      "INFO:tensorflow:Assets written to: net_1_0.hd5\\assets\n"
     ]
    },
    {
     "name": "stderr",
     "output_type": "stream",
     "text": [
      "INFO:tensorflow:Assets written to: net_1_0.hd5\\assets\n"
     ]
    },
    {
     "name": "stdout",
     "output_type": "stream",
     "text": [
      "40/40 [==============================] - 2s 35ms/step - loss: 2393.8621 - val_loss: 547.0703\n",
      "Epoch 2/10\n",
      "37/40 [==========================>...] - ETA: 0s - loss: 398.5316"
     ]
    },
    {
     "name": "stderr",
     "output_type": "stream",
     "text": [
      "WARNING:absl:Found untraced functions such as _jit_compiled_convolution_op, _jit_compiled_convolution_op, _jit_compiled_convolution_op, _jit_compiled_convolution_op while saving (showing 4 of 4). These functions will not be directly callable after loading.\n"
     ]
    },
    {
     "name": "stdout",
     "output_type": "stream",
     "text": [
      "INFO:tensorflow:Assets written to: net_1_1.hd5\\assets\n"
     ]
    },
    {
     "name": "stderr",
     "output_type": "stream",
     "text": [
      "INFO:tensorflow:Assets written to: net_1_1.hd5\\assets\n"
     ]
    },
    {
     "name": "stdout",
     "output_type": "stream",
     "text": [
      "40/40 [==============================] - 2s 40ms/step - loss: 395.7048 - val_loss: 314.6246\n",
      "Epoch 3/10\n",
      "38/40 [===========================>..] - ETA: 0s - loss: 277.8510"
     ]
    },
    {
     "name": "stderr",
     "output_type": "stream",
     "text": [
      "WARNING:absl:Found untraced functions such as _jit_compiled_convolution_op, _jit_compiled_convolution_op, _jit_compiled_convolution_op, _jit_compiled_convolution_op while saving (showing 4 of 4). These functions will not be directly callable after loading.\n"
     ]
    },
    {
     "name": "stdout",
     "output_type": "stream",
     "text": [
      "INFO:tensorflow:Assets written to: net_1_2.hd5\\assets\n"
     ]
    },
    {
     "name": "stderr",
     "output_type": "stream",
     "text": [
      "INFO:tensorflow:Assets written to: net_1_2.hd5\\assets\n"
     ]
    },
    {
     "name": "stdout",
     "output_type": "stream",
     "text": [
      "40/40 [==============================] - 2s 42ms/step - loss: 276.5214 - val_loss: 252.7388\n",
      "Epoch 4/10\n",
      "38/40 [===========================>..] - ETA: 0s - loss: 223.0382"
     ]
    },
    {
     "name": "stderr",
     "output_type": "stream",
     "text": [
      "WARNING:absl:Found untraced functions such as _jit_compiled_convolution_op, _jit_compiled_convolution_op, _jit_compiled_convolution_op, _jit_compiled_convolution_op while saving (showing 4 of 4). These functions will not be directly callable after loading.\n"
     ]
    },
    {
     "name": "stdout",
     "output_type": "stream",
     "text": [
      "INFO:tensorflow:Assets written to: net_1_3.hd5\\assets\n"
     ]
    },
    {
     "name": "stderr",
     "output_type": "stream",
     "text": [
      "INFO:tensorflow:Assets written to: net_1_3.hd5\\assets\n"
     ]
    },
    {
     "name": "stdout",
     "output_type": "stream",
     "text": [
      "40/40 [==============================] - 1s 35ms/step - loss: 223.0404 - val_loss: 205.3348\n",
      "Epoch 5/10\n",
      "38/40 [===========================>..] - ETA: 0s - loss: 187.3926"
     ]
    },
    {
     "name": "stderr",
     "output_type": "stream",
     "text": [
      "WARNING:absl:Found untraced functions such as _jit_compiled_convolution_op, _jit_compiled_convolution_op, _jit_compiled_convolution_op, _jit_compiled_convolution_op while saving (showing 4 of 4). These functions will not be directly callable after loading.\n"
     ]
    },
    {
     "name": "stdout",
     "output_type": "stream",
     "text": [
      "INFO:tensorflow:Assets written to: net_1_4.hd5\\assets\n"
     ]
    },
    {
     "name": "stderr",
     "output_type": "stream",
     "text": [
      "INFO:tensorflow:Assets written to: net_1_4.hd5\\assets\n"
     ]
    },
    {
     "name": "stdout",
     "output_type": "stream",
     "text": [
      "40/40 [==============================] - 2s 49ms/step - loss: 186.8432 - val_loss: 176.6194\n",
      "Epoch 6/10\n",
      "40/40 [==============================] - ETA: 0s - loss: 161.8587"
     ]
    },
    {
     "name": "stderr",
     "output_type": "stream",
     "text": [
      "WARNING:absl:Found untraced functions such as _jit_compiled_convolution_op, _jit_compiled_convolution_op, _jit_compiled_convolution_op, _jit_compiled_convolution_op while saving (showing 4 of 4). These functions will not be directly callable after loading.\n"
     ]
    },
    {
     "name": "stdout",
     "output_type": "stream",
     "text": [
      "INFO:tensorflow:Assets written to: net_1_5.hd5\\assets\n"
     ]
    },
    {
     "name": "stderr",
     "output_type": "stream",
     "text": [
      "INFO:tensorflow:Assets written to: net_1_5.hd5\\assets\n"
     ]
    },
    {
     "name": "stdout",
     "output_type": "stream",
     "text": [
      "40/40 [==============================] - 1s 31ms/step - loss: 161.8587 - val_loss: 155.6363\n",
      "Epoch 7/10\n",
      "35/40 [=========================>....] - ETA: 0s - loss: 145.1922"
     ]
    },
    {
     "name": "stderr",
     "output_type": "stream",
     "text": [
      "WARNING:absl:Found untraced functions such as _jit_compiled_convolution_op, _jit_compiled_convolution_op, _jit_compiled_convolution_op, _jit_compiled_convolution_op while saving (showing 4 of 4). These functions will not be directly callable after loading.\n"
     ]
    },
    {
     "name": "stdout",
     "output_type": "stream",
     "text": [
      "INFO:tensorflow:Assets written to: net_1_6.hd5\\assets\n"
     ]
    },
    {
     "name": "stderr",
     "output_type": "stream",
     "text": [
      "INFO:tensorflow:Assets written to: net_1_6.hd5\\assets\n"
     ]
    },
    {
     "name": "stdout",
     "output_type": "stream",
     "text": [
      "40/40 [==============================] - 2s 46ms/step - loss: 144.4872 - val_loss: 140.3664\n",
      "Epoch 8/10\n",
      "34/40 [========================>.....] - ETA: 0s - loss: 135.9851"
     ]
    },
    {
     "name": "stderr",
     "output_type": "stream",
     "text": [
      "WARNING:absl:Found untraced functions such as _jit_compiled_convolution_op, _jit_compiled_convolution_op, _jit_compiled_convolution_op, _jit_compiled_convolution_op while saving (showing 4 of 4). These functions will not be directly callable after loading.\n"
     ]
    },
    {
     "name": "stdout",
     "output_type": "stream",
     "text": [
      "INFO:tensorflow:Assets written to: net_1_7.hd5\\assets\n"
     ]
    },
    {
     "name": "stderr",
     "output_type": "stream",
     "text": [
      "INFO:tensorflow:Assets written to: net_1_7.hd5\\assets\n"
     ]
    },
    {
     "name": "stdout",
     "output_type": "stream",
     "text": [
      "40/40 [==============================] - 1s 35ms/step - loss: 134.3319 - val_loss: 132.9609\n",
      "Epoch 9/10\n",
      "33/40 [=======================>......] - ETA: 0s - loss: 121.6020"
     ]
    },
    {
     "name": "stderr",
     "output_type": "stream",
     "text": [
      "WARNING:absl:Found untraced functions such as _jit_compiled_convolution_op, _jit_compiled_convolution_op, _jit_compiled_convolution_op, _jit_compiled_convolution_op while saving (showing 4 of 4). These functions will not be directly callable after loading.\n"
     ]
    },
    {
     "name": "stdout",
     "output_type": "stream",
     "text": [
      "INFO:tensorflow:Assets written to: net_1_8.hd5\\assets\n"
     ]
    },
    {
     "name": "stderr",
     "output_type": "stream",
     "text": [
      "INFO:tensorflow:Assets written to: net_1_8.hd5\\assets\n"
     ]
    },
    {
     "name": "stdout",
     "output_type": "stream",
     "text": [
      "40/40 [==============================] - 1s 27ms/step - loss: 123.0911 - val_loss: 123.0365\n",
      "Epoch 10/10\n",
      "35/40 [=========================>....] - ETA: 0s - loss: 117.6168"
     ]
    },
    {
     "name": "stderr",
     "output_type": "stream",
     "text": [
      "WARNING:absl:Found untraced functions such as _jit_compiled_convolution_op, _jit_compiled_convolution_op, _jit_compiled_convolution_op, _jit_compiled_convolution_op while saving (showing 4 of 4). These functions will not be directly callable after loading.\n"
     ]
    },
    {
     "name": "stdout",
     "output_type": "stream",
     "text": [
      "INFO:tensorflow:Assets written to: net_1_9.hd5\\assets\n"
     ]
    },
    {
     "name": "stderr",
     "output_type": "stream",
     "text": [
      "INFO:tensorflow:Assets written to: net_1_9.hd5\\assets\n"
     ]
    },
    {
     "name": "stdout",
     "output_type": "stream",
     "text": [
      "\b\b\b\b\b\b\b\b\b\b\b\b\b\b\b\b\b\b\b\b\b\b\b\b\b\b\b\b\b\b\b\b\b\b\b\b\b\b\b\b\b\b\b\b\b\b\b\b\b\b\b\b\b\b\b\b\b\b\b\b\b\b\b\b\b\r",
      "40/40 [==============================] - 1s 31ms/step - loss: 116.9602 - val_loss: 116.5006\n"
     ]
    },
    {
     "name": "stderr",
     "output_type": "stream",
     "text": [
      "WARNING:absl:Found untraced functions such as _jit_compiled_convolution_op, _jit_compiled_convolution_op, _jit_compiled_convolution_op, _jit_compiled_convolution_op while saving (showing 4 of 4). These functions will not be directly callable after loading.\n"
     ]
    },
    {
     "name": "stdout",
     "output_type": "stream",
     "text": [
      "INFO:tensorflow:Assets written to: .//pretrain_net_1_model\\assets\n"
     ]
    },
    {
     "name": "stderr",
     "output_type": "stream",
     "text": [
      "INFO:tensorflow:Assets written to: .//pretrain_net_1_model\\assets\n"
     ]
    },
    {
     "name": "stdout",
     "output_type": "stream",
     "text": [
      "Pretrained weights are saved to .//pretrain_net_1_model\n",
      "...pretraining net_2:\n",
      "...Pretraining net_2...\n",
      "Epoch 1/10\n",
      "12/20 [=================>............] - ETA: 0s - loss: 264.6317 "
     ]
    },
    {
     "name": "stderr",
     "output_type": "stream",
     "text": [
      "WARNING:absl:Found untraced functions such as _jit_compiled_convolution_op, _jit_compiled_convolution_op, _jit_compiled_convolution_op while saving (showing 3 of 3). These functions will not be directly callable after loading.\n"
     ]
    },
    {
     "name": "stdout",
     "output_type": "stream",
     "text": [
      "INFO:tensorflow:Assets written to: net_2_0.hd5\\assets\n"
     ]
    },
    {
     "name": "stderr",
     "output_type": "stream",
     "text": [
      "INFO:tensorflow:Assets written to: net_2_0.hd5\\assets\n"
     ]
    },
    {
     "name": "stdout",
     "output_type": "stream",
     "text": [
      "20/20 [==============================] - 1s 49ms/step - loss: 179.0115 - val_loss: 41.2198\n",
      "Epoch 2/10\n",
      "13/20 [==================>...........] - ETA: 0s - loss: 20.6174"
     ]
    },
    {
     "name": "stderr",
     "output_type": "stream",
     "text": [
      "WARNING:absl:Found untraced functions such as _jit_compiled_convolution_op, _jit_compiled_convolution_op, _jit_compiled_convolution_op while saving (showing 3 of 3). These functions will not be directly callable after loading.\n"
     ]
    },
    {
     "name": "stdout",
     "output_type": "stream",
     "text": [
      "INFO:tensorflow:Assets written to: net_2_1.hd5\\assets\n"
     ]
    },
    {
     "name": "stderr",
     "output_type": "stream",
     "text": [
      "INFO:tensorflow:Assets written to: net_2_1.hd5\\assets\n"
     ]
    },
    {
     "name": "stdout",
     "output_type": "stream",
     "text": [
      "20/20 [==============================] - 1s 44ms/step - loss: 19.2215 - val_loss: 29.6146\n",
      "Epoch 3/10\n",
      "13/20 [==================>...........] - ETA: 0s - loss: 8.4909 "
     ]
    },
    {
     "name": "stderr",
     "output_type": "stream",
     "text": [
      "WARNING:absl:Found untraced functions such as _jit_compiled_convolution_op, _jit_compiled_convolution_op, _jit_compiled_convolution_op while saving (showing 3 of 3). These functions will not be directly callable after loading.\n"
     ]
    },
    {
     "name": "stdout",
     "output_type": "stream",
     "text": [
      "INFO:tensorflow:Assets written to: net_2_2.hd5\\assets\n"
     ]
    },
    {
     "name": "stderr",
     "output_type": "stream",
     "text": [
      "INFO:tensorflow:Assets written to: net_2_2.hd5\\assets\n"
     ]
    },
    {
     "name": "stdout",
     "output_type": "stream",
     "text": [
      "20/20 [==============================] - 1s 44ms/step - loss: 11.1053 - val_loss: 21.1134\n",
      "Epoch 4/10\n",
      "12/20 [=================>............] - ETA: 0s - loss: 6.4455"
     ]
    },
    {
     "name": "stderr",
     "output_type": "stream",
     "text": [
      "WARNING:absl:Found untraced functions such as _jit_compiled_convolution_op, _jit_compiled_convolution_op, _jit_compiled_convolution_op while saving (showing 3 of 3). These functions will not be directly callable after loading.\n"
     ]
    },
    {
     "name": "stdout",
     "output_type": "stream",
     "text": [
      "INFO:tensorflow:Assets written to: net_2_3.hd5\\assets\n"
     ]
    },
    {
     "name": "stderr",
     "output_type": "stream",
     "text": [
      "INFO:tensorflow:Assets written to: net_2_3.hd5\\assets\n"
     ]
    },
    {
     "name": "stdout",
     "output_type": "stream",
     "text": [
      "20/20 [==============================] - 1s 51ms/step - loss: 6.3157 - val_loss: 17.4068\n",
      "Epoch 5/10\n",
      "13/20 [==================>...........] - ETA: 0s - loss: 4.5772"
     ]
    },
    {
     "name": "stderr",
     "output_type": "stream",
     "text": [
      "WARNING:absl:Found untraced functions such as _jit_compiled_convolution_op, _jit_compiled_convolution_op, _jit_compiled_convolution_op while saving (showing 3 of 3). These functions will not be directly callable after loading.\n"
     ]
    },
    {
     "name": "stdout",
     "output_type": "stream",
     "text": [
      "INFO:tensorflow:Assets written to: net_2_4.hd5\\assets\n"
     ]
    },
    {
     "name": "stderr",
     "output_type": "stream",
     "text": [
      "INFO:tensorflow:Assets written to: net_2_4.hd5\\assets\n"
     ]
    },
    {
     "name": "stdout",
     "output_type": "stream",
     "text": [
      "20/20 [==============================] - 1s 43ms/step - loss: 3.9030 - val_loss: 20.5946\n",
      "Epoch 6/10\n",
      "11/20 [===============>..............] - ETA: 0s - loss: 2.2530"
     ]
    },
    {
     "name": "stderr",
     "output_type": "stream",
     "text": [
      "WARNING:absl:Found untraced functions such as _jit_compiled_convolution_op, _jit_compiled_convolution_op, _jit_compiled_convolution_op while saving (showing 3 of 3). These functions will not be directly callable after loading.\n"
     ]
    },
    {
     "name": "stdout",
     "output_type": "stream",
     "text": [
      "INFO:tensorflow:Assets written to: net_2_5.hd5\\assets\n"
     ]
    },
    {
     "name": "stderr",
     "output_type": "stream",
     "text": [
      "INFO:tensorflow:Assets written to: net_2_5.hd5\\assets\n"
     ]
    },
    {
     "name": "stdout",
     "output_type": "stream",
     "text": [
      "20/20 [==============================] - 1s 52ms/step - loss: 2.2029 - val_loss: 19.3520\n",
      "Epoch 7/10\n",
      "11/20 [===============>..............] - ETA: 0s - loss: 0.9098"
     ]
    },
    {
     "name": "stderr",
     "output_type": "stream",
     "text": [
      "WARNING:absl:Found untraced functions such as _jit_compiled_convolution_op, _jit_compiled_convolution_op, _jit_compiled_convolution_op while saving (showing 3 of 3). These functions will not be directly callable after loading.\n"
     ]
    },
    {
     "name": "stdout",
     "output_type": "stream",
     "text": [
      "INFO:tensorflow:Assets written to: net_2_6.hd5\\assets\n"
     ]
    },
    {
     "name": "stderr",
     "output_type": "stream",
     "text": [
      "INFO:tensorflow:Assets written to: net_2_6.hd5\\assets\n"
     ]
    },
    {
     "name": "stdout",
     "output_type": "stream",
     "text": [
      "20/20 [==============================] - 1s 68ms/step - loss: 1.3157 - val_loss: 17.7859\n",
      "Epoch 8/10\n",
      "11/20 [===============>..............] - ETA: 0s - loss: 0.7892"
     ]
    },
    {
     "name": "stderr",
     "output_type": "stream",
     "text": [
      "WARNING:absl:Found untraced functions such as _jit_compiled_convolution_op, _jit_compiled_convolution_op, _jit_compiled_convolution_op while saving (showing 3 of 3). These functions will not be directly callable after loading.\n"
     ]
    },
    {
     "name": "stdout",
     "output_type": "stream",
     "text": [
      "INFO:tensorflow:Assets written to: net_2_7.hd5\\assets\n"
     ]
    },
    {
     "name": "stderr",
     "output_type": "stream",
     "text": [
      "INFO:tensorflow:Assets written to: net_2_7.hd5\\assets\n"
     ]
    },
    {
     "name": "stdout",
     "output_type": "stream",
     "text": [
      "20/20 [==============================] - 1s 45ms/step - loss: 0.8249 - val_loss: 17.5854\n",
      "Epoch 9/10\n",
      "12/20 [=================>............] - ETA: 0s - loss: 0.5713"
     ]
    },
    {
     "name": "stderr",
     "output_type": "stream",
     "text": [
      "WARNING:absl:Found untraced functions such as _jit_compiled_convolution_op, _jit_compiled_convolution_op, _jit_compiled_convolution_op while saving (showing 3 of 3). These functions will not be directly callable after loading.\n"
     ]
    },
    {
     "name": "stdout",
     "output_type": "stream",
     "text": [
      "INFO:tensorflow:Assets written to: net_2_8.hd5\\assets\n"
     ]
    },
    {
     "name": "stderr",
     "output_type": "stream",
     "text": [
      "INFO:tensorflow:Assets written to: net_2_8.hd5\\assets\n"
     ]
    },
    {
     "name": "stdout",
     "output_type": "stream",
     "text": [
      "20/20 [==============================] - 1s 59ms/step - loss: 0.5196 - val_loss: 17.6294\n",
      "Epoch 10/10\n",
      "20/20 [==============================] - ETA: 0s - loss: 0.3230"
     ]
    },
    {
     "name": "stderr",
     "output_type": "stream",
     "text": [
      "WARNING:absl:Found untraced functions such as _jit_compiled_convolution_op, _jit_compiled_convolution_op, _jit_compiled_convolution_op while saving (showing 3 of 3). These functions will not be directly callable after loading.\n"
     ]
    },
    {
     "name": "stdout",
     "output_type": "stream",
     "text": [
      "INFO:tensorflow:Assets written to: net_2_9.hd5\\assets\n"
     ]
    },
    {
     "name": "stderr",
     "output_type": "stream",
     "text": [
      "INFO:tensorflow:Assets written to: net_2_9.hd5\\assets\n"
     ]
    },
    {
     "name": "stdout",
     "output_type": "stream",
     "text": [
      "\b\b\b\b\b\b\b\b\b\b\b\b\b\b\b\b\b\b\b\b\b\b\b\b\b\b\b\b\b\b\b\b\b\b\b\b\b\b\b\b\b\b\b\b\b\b\b\b\b\b\b\b\b\b\b\b\b\b\b\b\b\b\b\r",
      "20/20 [==============================] - 1s 71ms/step - loss: 0.3230 - val_loss: 17.3163\n"
     ]
    },
    {
     "name": "stderr",
     "output_type": "stream",
     "text": [
      "WARNING:absl:Found untraced functions such as _jit_compiled_convolution_op, _jit_compiled_convolution_op, _jit_compiled_convolution_op while saving (showing 3 of 3). These functions will not be directly callable after loading.\n"
     ]
    },
    {
     "name": "stdout",
     "output_type": "stream",
     "text": [
      "INFO:tensorflow:Assets written to: .//pretrain_net_2_model\\assets\n"
     ]
    },
    {
     "name": "stderr",
     "output_type": "stream",
     "text": [
      "INFO:tensorflow:Assets written to: .//pretrain_net_2_model\\assets\n"
     ]
    },
    {
     "name": "stdout",
     "output_type": "stream",
     "text": [
      "Pretrained weights are saved to .//pretrain_net_2_model\n",
      "...Training combined_net...\n",
      "Epoch 1/10\n",
      "19/20 [===========================>..] - ETA: 0s - loss: 17.0271"
     ]
    },
    {
     "name": "stderr",
     "output_type": "stream",
     "text": [
      "WARNING:absl:Found untraced functions such as _jit_compiled_convolution_op, _jit_compiled_convolution_op, _jit_compiled_convolution_op, _jit_compiled_convolution_op, _jit_compiled_convolution_op while saving (showing 5 of 7). These functions will not be directly callable after loading.\n"
     ]
    },
    {
     "name": "stdout",
     "output_type": "stream",
     "text": [
      "INFO:tensorflow:Assets written to: combined_net_0.hd5\\assets\n"
     ]
    },
    {
     "name": "stderr",
     "output_type": "stream",
     "text": [
      "INFO:tensorflow:Assets written to: combined_net_0.hd5\\assets\n"
     ]
    },
    {
     "name": "stdout",
     "output_type": "stream",
     "text": [
      "20/20 [==============================] - 3s 134ms/step - loss: 16.6555 - val_loss: 18.1167\n",
      "Epoch 2/10\n",
      "17/20 [========================>.....] - ETA: 0s - loss: 6.4252"
     ]
    },
    {
     "name": "stderr",
     "output_type": "stream",
     "text": [
      "WARNING:absl:Found untraced functions such as _jit_compiled_convolution_op, _jit_compiled_convolution_op, _jit_compiled_convolution_op, _jit_compiled_convolution_op, _jit_compiled_convolution_op while saving (showing 5 of 7). These functions will not be directly callable after loading.\n"
     ]
    },
    {
     "name": "stdout",
     "output_type": "stream",
     "text": [
      "INFO:tensorflow:Assets written to: combined_net_1.hd5\\assets\n"
     ]
    },
    {
     "name": "stderr",
     "output_type": "stream",
     "text": [
      "INFO:tensorflow:Assets written to: combined_net_1.hd5\\assets\n"
     ]
    },
    {
     "name": "stdout",
     "output_type": "stream",
     "text": [
      "20/20 [==============================] - 2s 100ms/step - loss: 6.6056 - val_loss: 13.5824\n",
      "Epoch 3/10\n",
      "16/20 [=======================>......] - ETA: 0s - loss: 3.2976"
     ]
    },
    {
     "name": "stderr",
     "output_type": "stream",
     "text": [
      "WARNING:absl:Found untraced functions such as _jit_compiled_convolution_op, _jit_compiled_convolution_op, _jit_compiled_convolution_op, _jit_compiled_convolution_op, _jit_compiled_convolution_op while saving (showing 5 of 7). These functions will not be directly callable after loading.\n"
     ]
    },
    {
     "name": "stdout",
     "output_type": "stream",
     "text": [
      "INFO:tensorflow:Assets written to: combined_net_2.hd5\\assets\n"
     ]
    },
    {
     "name": "stderr",
     "output_type": "stream",
     "text": [
      "INFO:tensorflow:Assets written to: combined_net_2.hd5\\assets\n"
     ]
    },
    {
     "name": "stdout",
     "output_type": "stream",
     "text": [
      "20/20 [==============================] - 2s 92ms/step - loss: 3.1533 - val_loss: 10.6639\n",
      "Epoch 4/10\n",
      "19/20 [===========================>..] - ETA: 0s - loss: 1.1447"
     ]
    },
    {
     "name": "stderr",
     "output_type": "stream",
     "text": [
      "WARNING:absl:Found untraced functions such as _jit_compiled_convolution_op, _jit_compiled_convolution_op, _jit_compiled_convolution_op, _jit_compiled_convolution_op, _jit_compiled_convolution_op while saving (showing 5 of 7). These functions will not be directly callable after loading.\n"
     ]
    },
    {
     "name": "stdout",
     "output_type": "stream",
     "text": [
      "INFO:tensorflow:Assets written to: combined_net_3.hd5\\assets\n"
     ]
    },
    {
     "name": "stderr",
     "output_type": "stream",
     "text": [
      "INFO:tensorflow:Assets written to: combined_net_3.hd5\\assets\n"
     ]
    },
    {
     "name": "stdout",
     "output_type": "stream",
     "text": [
      "20/20 [==============================] - 2s 103ms/step - loss: 1.1789 - val_loss: 10.2080\n",
      "Epoch 5/10\n",
      "18/20 [==========================>...] - ETA: 0s - loss: 0.6034"
     ]
    },
    {
     "name": "stderr",
     "output_type": "stream",
     "text": [
      "WARNING:absl:Found untraced functions such as _jit_compiled_convolution_op, _jit_compiled_convolution_op, _jit_compiled_convolution_op, _jit_compiled_convolution_op, _jit_compiled_convolution_op while saving (showing 5 of 7). These functions will not be directly callable after loading.\n"
     ]
    },
    {
     "name": "stdout",
     "output_type": "stream",
     "text": [
      "INFO:tensorflow:Assets written to: combined_net_4.hd5\\assets\n"
     ]
    },
    {
     "name": "stderr",
     "output_type": "stream",
     "text": [
      "INFO:tensorflow:Assets written to: combined_net_4.hd5\\assets\n"
     ]
    },
    {
     "name": "stdout",
     "output_type": "stream",
     "text": [
      "20/20 [==============================] - 2s 89ms/step - loss: 0.5878 - val_loss: 10.3131\n",
      "Epoch 6/10\n",
      "19/20 [===========================>..] - ETA: 0s - loss: 0.3706"
     ]
    },
    {
     "name": "stderr",
     "output_type": "stream",
     "text": [
      "WARNING:absl:Found untraced functions such as _jit_compiled_convolution_op, _jit_compiled_convolution_op, _jit_compiled_convolution_op, _jit_compiled_convolution_op, _jit_compiled_convolution_op while saving (showing 5 of 7). These functions will not be directly callable after loading.\n"
     ]
    },
    {
     "name": "stdout",
     "output_type": "stream",
     "text": [
      "INFO:tensorflow:Assets written to: combined_net_5.hd5\\assets\n"
     ]
    },
    {
     "name": "stderr",
     "output_type": "stream",
     "text": [
      "INFO:tensorflow:Assets written to: combined_net_5.hd5\\assets\n"
     ]
    },
    {
     "name": "stdout",
     "output_type": "stream",
     "text": [
      "20/20 [==============================] - 2s 97ms/step - loss: 0.3609 - val_loss: 10.4916\n",
      "Epoch 7/10\n",
      "17/20 [========================>.....] - ETA: 0s - loss: 0.1843"
     ]
    },
    {
     "name": "stderr",
     "output_type": "stream",
     "text": [
      "WARNING:absl:Found untraced functions such as _jit_compiled_convolution_op, _jit_compiled_convolution_op, _jit_compiled_convolution_op, _jit_compiled_convolution_op, _jit_compiled_convolution_op while saving (showing 5 of 7). These functions will not be directly callable after loading.\n"
     ]
    },
    {
     "name": "stdout",
     "output_type": "stream",
     "text": [
      "INFO:tensorflow:Assets written to: combined_net_6.hd5\\assets\n"
     ]
    },
    {
     "name": "stderr",
     "output_type": "stream",
     "text": [
      "INFO:tensorflow:Assets written to: combined_net_6.hd5\\assets\n"
     ]
    },
    {
     "name": "stdout",
     "output_type": "stream",
     "text": [
      "20/20 [==============================] - 2s 87ms/step - loss: 0.2010 - val_loss: 10.5880\n",
      "Epoch 8/10\n",
      "17/20 [========================>.....] - ETA: 0s - loss: 0.1139"
     ]
    },
    {
     "name": "stderr",
     "output_type": "stream",
     "text": [
      "WARNING:absl:Found untraced functions such as _jit_compiled_convolution_op, _jit_compiled_convolution_op, _jit_compiled_convolution_op, _jit_compiled_convolution_op, _jit_compiled_convolution_op while saving (showing 5 of 7). These functions will not be directly callable after loading.\n"
     ]
    },
    {
     "name": "stdout",
     "output_type": "stream",
     "text": [
      "INFO:tensorflow:Assets written to: combined_net_7.hd5\\assets\n"
     ]
    },
    {
     "name": "stderr",
     "output_type": "stream",
     "text": [
      "INFO:tensorflow:Assets written to: combined_net_7.hd5\\assets\n"
     ]
    },
    {
     "name": "stdout",
     "output_type": "stream",
     "text": [
      "20/20 [==============================] - 3s 154ms/step - loss: 0.1133 - val_loss: 10.4646\n",
      "Epoch 9/10\n",
      "17/20 [========================>.....] - ETA: 0s - loss: 0.1196"
     ]
    },
    {
     "name": "stderr",
     "output_type": "stream",
     "text": [
      "WARNING:absl:Found untraced functions such as _jit_compiled_convolution_op, _jit_compiled_convolution_op, _jit_compiled_convolution_op, _jit_compiled_convolution_op, _jit_compiled_convolution_op while saving (showing 5 of 7). These functions will not be directly callable after loading.\n"
     ]
    },
    {
     "name": "stdout",
     "output_type": "stream",
     "text": [
      "INFO:tensorflow:Assets written to: combined_net_8.hd5\\assets\n"
     ]
    },
    {
     "name": "stderr",
     "output_type": "stream",
     "text": [
      "INFO:tensorflow:Assets written to: combined_net_8.hd5\\assets\n"
     ]
    },
    {
     "name": "stdout",
     "output_type": "stream",
     "text": [
      "20/20 [==============================] - 3s 137ms/step - loss: 0.1171 - val_loss: 10.3820\n",
      "Epoch 10/10\n",
      "20/20 [==============================] - ETA: 0s - loss: 0.1558"
     ]
    },
    {
     "name": "stderr",
     "output_type": "stream",
     "text": [
      "WARNING:absl:Found untraced functions such as _jit_compiled_convolution_op, _jit_compiled_convolution_op, _jit_compiled_convolution_op, _jit_compiled_convolution_op, _jit_compiled_convolution_op while saving (showing 5 of 7). These functions will not be directly callable after loading.\n"
     ]
    },
    {
     "name": "stdout",
     "output_type": "stream",
     "text": [
      "INFO:tensorflow:Assets written to: combined_net_9.hd5\\assets\n"
     ]
    },
    {
     "name": "stderr",
     "output_type": "stream",
     "text": [
      "INFO:tensorflow:Assets written to: combined_net_9.hd5\\assets\n"
     ]
    },
    {
     "name": "stdout",
     "output_type": "stream",
     "text": [
      "\b\b\b\b\b\b\b\b\b\b\b\b\b\b\b\b\b\b\b\b\b\b\b\b\b\b\b\b\b\b\b\b\b\b\b\b\b\b\b\b\b\b\b\b\b\b\b\b\b\b\b\b\b\b\b\b\b\b\b\b\b\b\b\r",
      "20/20 [==============================] - 2s 116ms/step - loss: 0.1558 - val_loss: 11.1720\n"
     ]
    },
    {
     "name": "stderr",
     "output_type": "stream",
     "text": [
      "WARNING:absl:Found untraced functions such as _jit_compiled_convolution_op, _jit_compiled_convolution_op, _jit_compiled_convolution_op, _jit_compiled_convolution_op, _jit_compiled_convolution_op while saving (showing 5 of 7). These functions will not be directly callable after loading.\n"
     ]
    },
    {
     "name": "stdout",
     "output_type": "stream",
     "text": [
      "INFO:tensorflow:Assets written to: .//train_combined_net_model\\assets\n"
     ]
    },
    {
     "name": "stderr",
     "output_type": "stream",
     "text": [
      "INFO:tensorflow:Assets written to: .//train_combined_net_model\\assets\n"
     ]
    },
    {
     "name": "stdout",
     "output_type": "stream",
     "text": [
      "combined model weights are saved to .//pretrain_combined_net_model\n"
     ]
    }
   ],
   "source": [
    "our_model = MyModel(input_shape = (28,28,1))\n",
    "our_model.combined_net.summary()\n",
    "our_model.fit(x_train_1 = x_train_1, y_train_1=y_train_1, x_train_2=x_train_2, y_train_2=y_train_2, x_train_combined=x_train_combined, y_train_combined=y_train_combined, x_val_1=x_val_1, y_val_1=y_val_1,x_val_2=x_val_2, y_val_2=y_val_2, x_val_combined=x_val_combined,y_val_combined=y_val_combined, batch_size=BATCH_SIZE,net_1_weights=NET_1_WEIGHTS, net_2_weights=NET_2_WEIGHTS, save_dir='./')"
   ]
  }
 ],
 "metadata": {
  "kernelspec": {
   "display_name": "Python 3 (ipykernel)",
   "language": "python",
   "name": "python3"
  },
  "language_info": {
   "codemirror_mode": {
    "name": "ipython",
    "version": 3
   },
   "file_extension": ".py",
   "mimetype": "text/x-python",
   "name": "python",
   "nbconvert_exporter": "python",
   "pygments_lexer": "ipython3",
   "version": "3.9.7"
  }
 },
 "nbformat": 4,
 "nbformat_minor": 5
}
