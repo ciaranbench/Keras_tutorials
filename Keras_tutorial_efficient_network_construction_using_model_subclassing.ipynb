{
 "cells": [
  {
   "cell_type": "markdown",
   "id": "e41f22ed",
   "metadata": {},
   "source": [
    "# Keras tutorial: efficient network construction using model subclassing API\n",
    "### Here, we construct a network composed of repeated 'blocks' of operatons.\n",
    "### We define each block with a class, and use it to construct the network in a code efficient manner. \n"
   ]
  },
  {
   "cell_type": "markdown",
   "id": "5a31f13e",
   "metadata": {},
   "source": [
    "### Import dependencies"
   ]
  },
  {
   "cell_type": "code",
   "execution_count": 1,
   "id": "25c6eaca",
   "metadata": {},
   "outputs": [
    {
     "name": "stdout",
     "output_type": "stream",
     "text": [
      "2.9.0\n",
      "2.9.0\n"
     ]
    }
   ],
   "source": [
    "import numpy as np\n",
    "import keras\n",
    "import tensorflow as tf\n",
    "import tensorflow.keras as tk\n",
    "from tensorflow.keras import layers\n",
    "\n",
    "print(tf. __version__) \n",
    "print(keras.__version__)"
   ]
  },
  {
   "cell_type": "markdown",
   "id": "7574c4c0",
   "metadata": {},
   "source": [
    "### Load in data"
   ]
  },
  {
   "cell_type": "code",
   "execution_count": 2,
   "id": "81e2cc0f",
   "metadata": {},
   "outputs": [
    {
     "name": "stdout",
     "output_type": "stream",
     "text": [
      "x_train shape: (999, 28, 28, 1)\n",
      "999 train samples\n",
      "100 test samples\n"
     ]
    }
   ],
   "source": [
    "# Model / data parameters\n",
    "num_classes = 10\n",
    "input_shape = (28, 28, 1)\n",
    "\n",
    "# Load the data and split it between train and test sets\n",
    "(x_train, y_train), (x_test, y_test) = keras.datasets.mnist.load_data()\n",
    "\n",
    "# Scale images to the [0, 1] range\n",
    "x_train = x_train.astype(\"float32\") / 255\n",
    "x_test = x_test.astype(\"float32\") / 255\n",
    "# Make sure images have shape (28, 28, 1)\n",
    "x_train = np.expand_dims(x_train, -1)\n",
    "x_test = np.expand_dims(x_test, -1)\n",
    "\n",
    "\n",
    "\n",
    "# convert class vectors to binary class matrices\n",
    "y_train = keras.utils.to_categorical(y_train, num_classes)\n",
    "y_test = keras.utils.to_categorical(y_test, num_classes)\n",
    "\n",
    "x_train_1 = x_train[1:1000,:,:]\n",
    "\n",
    "\n",
    "x_val_1 = x_train[1000:1150,:,:]\n",
    "\n",
    "x_test_1 = x_train[1150:1250,:,:]\n",
    "\n",
    "y_train_1 = y_train[1:1000]\n",
    "\n",
    "y_val_1 = y_train[1000:1150]\n",
    "\n",
    "y_test_1 = y_train[1150:1250]\n",
    "print(\"x_train shape:\", x_train_1.shape)\n",
    "print(x_train_1.shape[0], \"train samples\")\n",
    "print(x_test_1.shape[0], \"test samples\")"
   ]
  },
  {
   "cell_type": "markdown",
   "id": "deec7793",
   "metadata": {},
   "source": [
    "### Set hyperparameters"
   ]
  },
  {
   "cell_type": "code",
   "execution_count": 3,
   "id": "4bc2525e",
   "metadata": {},
   "outputs": [],
   "source": [
    "EPOCHS=30\n",
    "BATCH_SIZE = 5"
   ]
  },
  {
   "cell_type": "code",
   "execution_count": 4,
   "id": "a673b8f7",
   "metadata": {},
   "outputs": [],
   "source": [
    "class ConvBlock(layers.Layer):\n",
    "    # class instances are manipulated by the functions in the class\n",
    "    def __init__(self, filters=32, kernel_size = 3):\n",
    "        super(ConvBlock,self).__init__()\n",
    "        self.conv = layers.Conv2D(filters, kernel_size, padding='same')\n",
    "        self.bn = layers.BatchNormalization()\n",
    "        \n",
    "    # define the operations peformed by the block\n",
    "    def call(self, input_tensor, training=False):\n",
    "        x = self.conv(input_tensor)\n",
    "        x = self.bn(x,training=training) # Batchnorm uses training as an input.\n",
    "        x = layers.Activation(keras.activations.relu)(x)\n",
    "        return x\n",
    "    \n",
    "class ConvChainModule(layers.Layer):\n",
    "    # class instances are manipulated by the functions in the class\n",
    "    def __init__(self, filters=32, kernel_size = 3):\n",
    "        super(ConvChainModule,self).__init__()\n",
    "        self.conv_chain1 = ConvBlock()\n",
    "        self.conv_chain2 = ConvBlock()\n",
    "        self.conv_chain3 = ConvBlock()\n",
    "        \n",
    "        \n",
    "    # define the operations peformed by the block\n",
    "    def call(self, input_tensor, training=False):\n",
    "        #x = layers.Conv2D(10, 3, padding='same')(input_tensor)\n",
    "        x = self.conv_chain1(input_tensor)\n",
    "        x = self.conv_chain2(x)\n",
    "        x = self.conv_chain3(x)\n",
    "        return x\n",
    "        "
   ]
  },
  {
   "cell_type": "code",
   "execution_count": 5,
   "id": "9704e769",
   "metadata": {},
   "outputs": [],
   "source": [
    "net_input_1 = keras.Input(shape=(28, 28, 1), name=\"img\")\n",
    "x = ConvChainModule()(net_input_1)\n",
    "x = layers.MaxPooling2D(pool_size=(2, 2))(x)\n",
    "x = ConvChainModule()(x)\n",
    "x = layers.MaxPooling2D(pool_size=(2, 2))(x)\n",
    "x = ConvChainModule()(x)\n",
    "x = layers.MaxPooling2D(pool_size=(2, 2))(x)\n",
    "x = layers.Conv2D(filters=1, kernel_size = 3, padding='same')(x)\n",
    "x = layers.Flatten()(x)\n",
    "net_output_= layers.Dense(num_classes, activation=\"softmax\")(x)\n"
   ]
  },
  {
   "cell_type": "code",
   "execution_count": 6,
   "id": "c64935ce",
   "metadata": {},
   "outputs": [],
   "source": [
    "class MyModel(object):\n",
    "    # initialise instance attributes in __init_ - these are manipulated by the functions in the class.\n",
    "    # Keras model takes variable input_shape as an input, so we include this as an input. \n",
    "    def __init__(self,input_shape):\n",
    "        # super below runs the __init__ of parent class (in this case, object).\n",
    "        # we don't really need this, but it's kept to illustrate potential functionality.\n",
    "        super(MyModel,self).__init__()\n",
    "        self.input_shape = input_shape\n",
    "        self.net_1 = keras.Model(net_input_1, net_output_, name=\"net_1\")\n",
    "\n",
    "    def fit(self, x,y,x_val,y_val):\n",
    "        class CustomSaver(keras.callbacks.Callback):\n",
    "            def on_epoch_end(self, epoch, logs={}):\n",
    "                # we use self.model because we are inhereting the keras.callbacks.Callback class which uses the model attribute\n",
    "                self.model.save(\"combined_net_{}.hd5\".format(epoch))  \n",
    "        self.net_1.compile(optimizer='adam', loss='categorical_crossentropy', metrics=['accuracy'])\n",
    "        from keras.callbacks import CSVLogger\n",
    "        csv_logger = CSVLogger('pretrain_log_combined.csv')\n",
    "        saver = CustomSaver()\n",
    "        self.net_1.fit(x, y, batch_size=BATCH_SIZE, epochs=EPOCHS, callbacks=[csv_logger,saver],validation_data=(x_val, y_val))\n",
    "        \n",
    "        \n"
   ]
  },
  {
   "cell_type": "code",
   "execution_count": 7,
   "id": "2b7bac44",
   "metadata": {},
   "outputs": [
    {
     "name": "stdout",
     "output_type": "stream",
     "text": [
      "Model: \"net_1\"\n",
      "_________________________________________________________________\n",
      " Layer (type)                Output Shape              Param #   \n",
      "=================================================================\n",
      " img (InputLayer)            [(None, 28, 28, 1)]       0         \n",
      "                                                                 \n",
      " conv_chain_module (ConvChai  (None, 28, 28, 32)       19200     \n",
      " nModule)                                                        \n",
      "                                                                 \n",
      " max_pooling2d (MaxPooling2D  (None, 14, 14, 32)       0         \n",
      " )                                                               \n",
      "                                                                 \n",
      " conv_chain_module_1 (ConvCh  (None, 14, 14, 32)       28128     \n",
      " ainModule)                                                      \n",
      "                                                                 \n",
      " max_pooling2d_1 (MaxPooling  (None, 7, 7, 32)         0         \n",
      " 2D)                                                             \n",
      "                                                                 \n",
      " conv_chain_module_2 (ConvCh  (None, 7, 7, 32)         28128     \n",
      " ainModule)                                                      \n",
      "                                                                 \n",
      " max_pooling2d_2 (MaxPooling  (None, 3, 3, 32)         0         \n",
      " 2D)                                                             \n",
      "                                                                 \n",
      " conv2d_9 (Conv2D)           (None, 3, 3, 1)           289       \n",
      "                                                                 \n",
      " flatten (Flatten)           (None, 9)                 0         \n",
      "                                                                 \n",
      " dense (Dense)               (None, 10)                100       \n",
      "                                                                 \n",
      "=================================================================\n",
      "Total params: 75,845\n",
      "Trainable params: 75,269\n",
      "Non-trainable params: 576\n",
      "_________________________________________________________________\n",
      "Epoch 1/30\n",
      "198/200 [============================>.] - ETA: 0s - loss: 1.0601 - accuracy: 0.6869"
     ]
    },
    {
     "name": "stderr",
     "output_type": "stream",
     "text": [
      "WARNING:absl:Found untraced functions such as _jit_compiled_convolution_op, conv_block_layer_call_fn, conv_block_layer_call_and_return_conditional_losses, conv_block_1_layer_call_fn, conv_block_1_layer_call_and_return_conditional_losses while saving (showing 5 of 46). These functions will not be directly callable after loading.\n"
     ]
    },
    {
     "name": "stdout",
     "output_type": "stream",
     "text": [
      "INFO:tensorflow:Assets written to: combined_net_0.hd5\\assets\n"
     ]
    },
    {
     "name": "stderr",
     "output_type": "stream",
     "text": [
      "INFO:tensorflow:Assets written to: combined_net_0.hd5\\assets\n"
     ]
    },
    {
     "name": "stdout",
     "output_type": "stream",
     "text": [
      "200/200 [==============================] - 10s 42ms/step - loss: 1.0565 - accuracy: 0.6877 - val_loss: 3.9235 - val_accuracy: 0.1467\n",
      "Epoch 2/30\n",
      "200/200 [==============================] - ETA: 0s - loss: 0.3186 - accuracy: 0.9129"
     ]
    },
    {
     "name": "stderr",
     "output_type": "stream",
     "text": [
      "WARNING:absl:Found untraced functions such as _jit_compiled_convolution_op, conv_block_layer_call_fn, conv_block_layer_call_and_return_conditional_losses, conv_block_1_layer_call_fn, conv_block_1_layer_call_and_return_conditional_losses while saving (showing 5 of 46). These functions will not be directly callable after loading.\n"
     ]
    },
    {
     "name": "stdout",
     "output_type": "stream",
     "text": [
      "INFO:tensorflow:Assets written to: combined_net_1.hd5\\assets\n"
     ]
    },
    {
     "name": "stderr",
     "output_type": "stream",
     "text": [
      "INFO:tensorflow:Assets written to: combined_net_1.hd5\\assets\n"
     ]
    },
    {
     "name": "stdout",
     "output_type": "stream",
     "text": [
      "200/200 [==============================] - 9s 44ms/step - loss: 0.3186 - accuracy: 0.9129 - val_loss: 2.1770 - val_accuracy: 0.3267\n",
      "Epoch 3/30\n",
      "199/200 [============================>.] - ETA: 0s - loss: 0.1642 - accuracy: 0.9568"
     ]
    },
    {
     "name": "stderr",
     "output_type": "stream",
     "text": [
      "WARNING:absl:Found untraced functions such as _jit_compiled_convolution_op, conv_block_layer_call_fn, conv_block_layer_call_and_return_conditional_losses, conv_block_1_layer_call_fn, conv_block_1_layer_call_and_return_conditional_losses while saving (showing 5 of 46). These functions will not be directly callable after loading.\n"
     ]
    },
    {
     "name": "stdout",
     "output_type": "stream",
     "text": [
      "INFO:tensorflow:Assets written to: combined_net_2.hd5\\assets\n"
     ]
    },
    {
     "name": "stderr",
     "output_type": "stream",
     "text": [
      "INFO:tensorflow:Assets written to: combined_net_2.hd5\\assets\n"
     ]
    },
    {
     "name": "stdout",
     "output_type": "stream",
     "text": [
      "200/200 [==============================] - 9s 46ms/step - loss: 0.1635 - accuracy: 0.9570 - val_loss: 0.3556 - val_accuracy: 0.8667\n",
      "Epoch 4/30\n",
      "200/200 [==============================] - ETA: 0s - loss: 0.1074 - accuracy: 0.9690"
     ]
    },
    {
     "name": "stderr",
     "output_type": "stream",
     "text": [
      "WARNING:absl:Found untraced functions such as _jit_compiled_convolution_op, conv_block_layer_call_fn, conv_block_layer_call_and_return_conditional_losses, conv_block_1_layer_call_fn, conv_block_1_layer_call_and_return_conditional_losses while saving (showing 5 of 46). These functions will not be directly callable after loading.\n"
     ]
    },
    {
     "name": "stdout",
     "output_type": "stream",
     "text": [
      "INFO:tensorflow:Assets written to: combined_net_3.hd5\\assets\n"
     ]
    },
    {
     "name": "stderr",
     "output_type": "stream",
     "text": [
      "INFO:tensorflow:Assets written to: combined_net_3.hd5\\assets\n"
     ]
    },
    {
     "name": "stdout",
     "output_type": "stream",
     "text": [
      "200/200 [==============================] - 8s 40ms/step - loss: 0.1074 - accuracy: 0.9690 - val_loss: 0.3296 - val_accuracy: 0.8867\n",
      "Epoch 5/30\n",
      "199/200 [============================>.] - ETA: 0s - loss: 0.0728 - accuracy: 0.9819"
     ]
    },
    {
     "name": "stderr",
     "output_type": "stream",
     "text": [
      "WARNING:absl:Found untraced functions such as _jit_compiled_convolution_op, conv_block_layer_call_fn, conv_block_layer_call_and_return_conditional_losses, conv_block_1_layer_call_fn, conv_block_1_layer_call_and_return_conditional_losses while saving (showing 5 of 46). These functions will not be directly callable after loading.\n"
     ]
    },
    {
     "name": "stdout",
     "output_type": "stream",
     "text": [
      "INFO:tensorflow:Assets written to: combined_net_4.hd5\\assets\n"
     ]
    },
    {
     "name": "stderr",
     "output_type": "stream",
     "text": [
      "INFO:tensorflow:Assets written to: combined_net_4.hd5\\assets\n"
     ]
    },
    {
     "name": "stdout",
     "output_type": "stream",
     "text": [
      "200/200 [==============================] - 8s 41ms/step - loss: 0.0726 - accuracy: 0.9820 - val_loss: 0.1853 - val_accuracy: 0.9067\n",
      "Epoch 6/30\n",
      "199/200 [============================>.] - ETA: 0s - loss: 0.0762 - accuracy: 0.9779"
     ]
    },
    {
     "name": "stderr",
     "output_type": "stream",
     "text": [
      "WARNING:absl:Found untraced functions such as _jit_compiled_convolution_op, conv_block_layer_call_fn, conv_block_layer_call_and_return_conditional_losses, conv_block_1_layer_call_fn, conv_block_1_layer_call_and_return_conditional_losses while saving (showing 5 of 46). These functions will not be directly callable after loading.\n"
     ]
    },
    {
     "name": "stdout",
     "output_type": "stream",
     "text": [
      "INFO:tensorflow:Assets written to: combined_net_5.hd5\\assets\n"
     ]
    },
    {
     "name": "stderr",
     "output_type": "stream",
     "text": [
      "INFO:tensorflow:Assets written to: combined_net_5.hd5\\assets\n"
     ]
    },
    {
     "name": "stdout",
     "output_type": "stream",
     "text": [
      "200/200 [==============================] - 8s 41ms/step - loss: 0.0760 - accuracy: 0.9780 - val_loss: 0.4912 - val_accuracy: 0.8467\n",
      "Epoch 7/30\n",
      "198/200 [============================>.] - ETA: 0s - loss: 0.0651 - accuracy: 0.9818"
     ]
    },
    {
     "name": "stderr",
     "output_type": "stream",
     "text": [
      "WARNING:absl:Found untraced functions such as _jit_compiled_convolution_op, conv_block_layer_call_fn, conv_block_layer_call_and_return_conditional_losses, conv_block_1_layer_call_fn, conv_block_1_layer_call_and_return_conditional_losses while saving (showing 5 of 46). These functions will not be directly callable after loading.\n"
     ]
    },
    {
     "name": "stdout",
     "output_type": "stream",
     "text": [
      "INFO:tensorflow:Assets written to: combined_net_6.hd5\\assets\n"
     ]
    },
    {
     "name": "stderr",
     "output_type": "stream",
     "text": [
      "INFO:tensorflow:Assets written to: combined_net_6.hd5\\assets\n"
     ]
    },
    {
     "name": "stdout",
     "output_type": "stream",
     "text": [
      "200/200 [==============================] - 8s 39ms/step - loss: 0.0657 - accuracy: 0.9810 - val_loss: 0.2928 - val_accuracy: 0.8867\n",
      "Epoch 8/30\n",
      "200/200 [==============================] - ETA: 0s - loss: 0.1261 - accuracy: 0.9610"
     ]
    },
    {
     "name": "stderr",
     "output_type": "stream",
     "text": [
      "WARNING:absl:Found untraced functions such as _jit_compiled_convolution_op, conv_block_layer_call_fn, conv_block_layer_call_and_return_conditional_losses, conv_block_1_layer_call_fn, conv_block_1_layer_call_and_return_conditional_losses while saving (showing 5 of 46). These functions will not be directly callable after loading.\n"
     ]
    },
    {
     "name": "stdout",
     "output_type": "stream",
     "text": [
      "INFO:tensorflow:Assets written to: combined_net_7.hd5\\assets\n"
     ]
    },
    {
     "name": "stderr",
     "output_type": "stream",
     "text": [
      "INFO:tensorflow:Assets written to: combined_net_7.hd5\\assets\n"
     ]
    },
    {
     "name": "stdout",
     "output_type": "stream",
     "text": [
      "200/200 [==============================] - 8s 41ms/step - loss: 0.1261 - accuracy: 0.9610 - val_loss: 0.2704 - val_accuracy: 0.9133\n",
      "Epoch 9/30\n",
      "200/200 [==============================] - ETA: 0s - loss: 0.0337 - accuracy: 0.9940"
     ]
    },
    {
     "name": "stderr",
     "output_type": "stream",
     "text": [
      "WARNING:absl:Found untraced functions such as _jit_compiled_convolution_op, conv_block_layer_call_fn, conv_block_layer_call_and_return_conditional_losses, conv_block_1_layer_call_fn, conv_block_1_layer_call_and_return_conditional_losses while saving (showing 5 of 46). These functions will not be directly callable after loading.\n"
     ]
    },
    {
     "name": "stdout",
     "output_type": "stream",
     "text": [
      "INFO:tensorflow:Assets written to: combined_net_8.hd5\\assets\n"
     ]
    },
    {
     "name": "stderr",
     "output_type": "stream",
     "text": [
      "INFO:tensorflow:Assets written to: combined_net_8.hd5\\assets\n"
     ]
    },
    {
     "name": "stdout",
     "output_type": "stream",
     "text": [
      "200/200 [==============================] - 8s 41ms/step - loss: 0.0337 - accuracy: 0.9940 - val_loss: 0.1782 - val_accuracy: 0.9133\n",
      "Epoch 10/30\n",
      "200/200 [==============================] - ETA: 0s - loss: 0.0155 - accuracy: 0.9950"
     ]
    },
    {
     "name": "stderr",
     "output_type": "stream",
     "text": [
      "WARNING:absl:Found untraced functions such as _jit_compiled_convolution_op, conv_block_layer_call_fn, conv_block_layer_call_and_return_conditional_losses, conv_block_1_layer_call_fn, conv_block_1_layer_call_and_return_conditional_losses while saving (showing 5 of 46). These functions will not be directly callable after loading.\n"
     ]
    },
    {
     "name": "stdout",
     "output_type": "stream",
     "text": [
      "INFO:tensorflow:Assets written to: combined_net_9.hd5\\assets\n"
     ]
    },
    {
     "name": "stderr",
     "output_type": "stream",
     "text": [
      "INFO:tensorflow:Assets written to: combined_net_9.hd5\\assets\n"
     ]
    },
    {
     "name": "stdout",
     "output_type": "stream",
     "text": [
      "200/200 [==============================] - 8s 41ms/step - loss: 0.0155 - accuracy: 0.9950 - val_loss: 0.1480 - val_accuracy: 0.9333\n",
      "Epoch 11/30\n",
      "199/200 [============================>.] - ETA: 0s - loss: 0.0081 - accuracy: 0.9990"
     ]
    },
    {
     "name": "stderr",
     "output_type": "stream",
     "text": [
      "WARNING:absl:Found untraced functions such as _jit_compiled_convolution_op, conv_block_layer_call_fn, conv_block_layer_call_and_return_conditional_losses, conv_block_1_layer_call_fn, conv_block_1_layer_call_and_return_conditional_losses while saving (showing 5 of 46). These functions will not be directly callable after loading.\n"
     ]
    },
    {
     "name": "stdout",
     "output_type": "stream",
     "text": [
      "INFO:tensorflow:Assets written to: combined_net_10.hd5\\assets\n"
     ]
    },
    {
     "name": "stderr",
     "output_type": "stream",
     "text": [
      "INFO:tensorflow:Assets written to: combined_net_10.hd5\\assets\n"
     ]
    },
    {
     "name": "stdout",
     "output_type": "stream",
     "text": [
      "200/200 [==============================] - 8s 41ms/step - loss: 0.0083 - accuracy: 0.9990 - val_loss: 0.1416 - val_accuracy: 0.9533\n",
      "Epoch 12/30\n",
      "200/200 [==============================] - ETA: 0s - loss: 0.0020 - accuracy: 1.0000"
     ]
    },
    {
     "name": "stderr",
     "output_type": "stream",
     "text": [
      "WARNING:absl:Found untraced functions such as _jit_compiled_convolution_op, conv_block_layer_call_fn, conv_block_layer_call_and_return_conditional_losses, conv_block_1_layer_call_fn, conv_block_1_layer_call_and_return_conditional_losses while saving (showing 5 of 46). These functions will not be directly callable after loading.\n"
     ]
    },
    {
     "name": "stdout",
     "output_type": "stream",
     "text": [
      "INFO:tensorflow:Assets written to: combined_net_11.hd5\\assets\n"
     ]
    },
    {
     "name": "stderr",
     "output_type": "stream",
     "text": [
      "INFO:tensorflow:Assets written to: combined_net_11.hd5\\assets\n"
     ]
    },
    {
     "name": "stdout",
     "output_type": "stream",
     "text": [
      "200/200 [==============================] - 8s 42ms/step - loss: 0.0020 - accuracy: 1.0000 - val_loss: 0.1377 - val_accuracy: 0.9467\n",
      "Epoch 13/30\n",
      "199/200 [============================>.] - ETA: 0s - loss: 0.0010 - accuracy: 1.0000"
     ]
    },
    {
     "name": "stderr",
     "output_type": "stream",
     "text": [
      "WARNING:absl:Found untraced functions such as _jit_compiled_convolution_op, conv_block_layer_call_fn, conv_block_layer_call_and_return_conditional_losses, conv_block_1_layer_call_fn, conv_block_1_layer_call_and_return_conditional_losses while saving (showing 5 of 46). These functions will not be directly callable after loading.\n"
     ]
    },
    {
     "name": "stdout",
     "output_type": "stream",
     "text": [
      "INFO:tensorflow:Assets written to: combined_net_12.hd5\\assets\n"
     ]
    },
    {
     "name": "stderr",
     "output_type": "stream",
     "text": [
      "INFO:tensorflow:Assets written to: combined_net_12.hd5\\assets\n"
     ]
    },
    {
     "name": "stdout",
     "output_type": "stream",
     "text": [
      "200/200 [==============================] - 8s 42ms/step - loss: 0.0010 - accuracy: 1.0000 - val_loss: 0.1238 - val_accuracy: 0.9600\n",
      "Epoch 14/30\n",
      "198/200 [============================>.] - ETA: 0s - loss: 5.9559e-04 - accuracy: 1.0000"
     ]
    },
    {
     "name": "stderr",
     "output_type": "stream",
     "text": [
      "WARNING:absl:Found untraced functions such as _jit_compiled_convolution_op, conv_block_layer_call_fn, conv_block_layer_call_and_return_conditional_losses, conv_block_1_layer_call_fn, conv_block_1_layer_call_and_return_conditional_losses while saving (showing 5 of 46). These functions will not be directly callable after loading.\n"
     ]
    },
    {
     "name": "stdout",
     "output_type": "stream",
     "text": [
      "INFO:tensorflow:Assets written to: combined_net_13.hd5\\assets\n"
     ]
    },
    {
     "name": "stderr",
     "output_type": "stream",
     "text": [
      "INFO:tensorflow:Assets written to: combined_net_13.hd5\\assets\n"
     ]
    },
    {
     "name": "stdout",
     "output_type": "stream",
     "text": [
      "200/200 [==============================] - 11s 56ms/step - loss: 5.9138e-04 - accuracy: 1.0000 - val_loss: 0.1243 - val_accuracy: 0.9467\n",
      "Epoch 15/30\n",
      "198/200 [============================>.] - ETA: 0s - loss: 5.7557e-04 - accuracy: 1.0000"
     ]
    },
    {
     "name": "stderr",
     "output_type": "stream",
     "text": [
      "WARNING:absl:Found untraced functions such as _jit_compiled_convolution_op, conv_block_layer_call_fn, conv_block_layer_call_and_return_conditional_losses, conv_block_1_layer_call_fn, conv_block_1_layer_call_and_return_conditional_losses while saving (showing 5 of 46). These functions will not be directly callable after loading.\n"
     ]
    },
    {
     "name": "stdout",
     "output_type": "stream",
     "text": [
      "INFO:tensorflow:Assets written to: combined_net_14.hd5\\assets\n"
     ]
    },
    {
     "name": "stderr",
     "output_type": "stream",
     "text": [
      "INFO:tensorflow:Assets written to: combined_net_14.hd5\\assets\n"
     ]
    },
    {
     "name": "stdout",
     "output_type": "stream",
     "text": [
      "200/200 [==============================] - 8s 41ms/step - loss: 5.7687e-04 - accuracy: 1.0000 - val_loss: 0.1255 - val_accuracy: 0.9533\n",
      "Epoch 16/30\n",
      "199/200 [============================>.] - ETA: 0s - loss: 4.8815e-04 - accuracy: 1.0000"
     ]
    },
    {
     "name": "stderr",
     "output_type": "stream",
     "text": [
      "WARNING:absl:Found untraced functions such as _jit_compiled_convolution_op, conv_block_layer_call_fn, conv_block_layer_call_and_return_conditional_losses, conv_block_1_layer_call_fn, conv_block_1_layer_call_and_return_conditional_losses while saving (showing 5 of 46). These functions will not be directly callable after loading.\n"
     ]
    },
    {
     "name": "stdout",
     "output_type": "stream",
     "text": [
      "INFO:tensorflow:Assets written to: combined_net_15.hd5\\assets\n"
     ]
    },
    {
     "name": "stderr",
     "output_type": "stream",
     "text": [
      "INFO:tensorflow:Assets written to: combined_net_15.hd5\\assets\n"
     ]
    },
    {
     "name": "stdout",
     "output_type": "stream",
     "text": [
      "200/200 [==============================] - 9s 47ms/step - loss: 4.8643e-04 - accuracy: 1.0000 - val_loss: 0.1230 - val_accuracy: 0.9400\n",
      "Epoch 17/30\n",
      "199/200 [============================>.] - ETA: 0s - loss: 3.8643e-04 - accuracy: 1.0000"
     ]
    },
    {
     "name": "stderr",
     "output_type": "stream",
     "text": [
      "WARNING:absl:Found untraced functions such as _jit_compiled_convolution_op, conv_block_layer_call_fn, conv_block_layer_call_and_return_conditional_losses, conv_block_1_layer_call_fn, conv_block_1_layer_call_and_return_conditional_losses while saving (showing 5 of 46). These functions will not be directly callable after loading.\n"
     ]
    },
    {
     "name": "stdout",
     "output_type": "stream",
     "text": [
      "INFO:tensorflow:Assets written to: combined_net_16.hd5\\assets\n"
     ]
    },
    {
     "name": "stderr",
     "output_type": "stream",
     "text": [
      "INFO:tensorflow:Assets written to: combined_net_16.hd5\\assets\n"
     ]
    },
    {
     "name": "stdout",
     "output_type": "stream",
     "text": [
      "200/200 [==============================] - 10s 52ms/step - loss: 3.8503e-04 - accuracy: 1.0000 - val_loss: 0.1258 - val_accuracy: 0.9400\n",
      "Epoch 18/30\n",
      "198/200 [============================>.] - ETA: 0s - loss: 3.3482e-04 - accuracy: 1.0000"
     ]
    },
    {
     "name": "stderr",
     "output_type": "stream",
     "text": [
      "WARNING:absl:Found untraced functions such as _jit_compiled_convolution_op, conv_block_layer_call_fn, conv_block_layer_call_and_return_conditional_losses, conv_block_1_layer_call_fn, conv_block_1_layer_call_and_return_conditional_losses while saving (showing 5 of 46). These functions will not be directly callable after loading.\n"
     ]
    },
    {
     "name": "stdout",
     "output_type": "stream",
     "text": [
      "INFO:tensorflow:Assets written to: combined_net_17.hd5\\assets\n"
     ]
    },
    {
     "name": "stderr",
     "output_type": "stream",
     "text": [
      "INFO:tensorflow:Assets written to: combined_net_17.hd5\\assets\n"
     ]
    },
    {
     "name": "stdout",
     "output_type": "stream",
     "text": [
      "200/200 [==============================] - 8s 42ms/step - loss: 3.3682e-04 - accuracy: 1.0000 - val_loss: 0.1282 - val_accuracy: 0.9467\n",
      "Epoch 19/30\n",
      "198/200 [============================>.] - ETA: 0s - loss: 0.1993 - accuracy: 0.9364"
     ]
    },
    {
     "name": "stderr",
     "output_type": "stream",
     "text": [
      "WARNING:absl:Found untraced functions such as _jit_compiled_convolution_op, conv_block_layer_call_fn, conv_block_layer_call_and_return_conditional_losses, conv_block_1_layer_call_fn, conv_block_1_layer_call_and_return_conditional_losses while saving (showing 5 of 46). These functions will not be directly callable after loading.\n"
     ]
    },
    {
     "name": "stdout",
     "output_type": "stream",
     "text": [
      "INFO:tensorflow:Assets written to: combined_net_18.hd5\\assets\n"
     ]
    },
    {
     "name": "stderr",
     "output_type": "stream",
     "text": [
      "INFO:tensorflow:Assets written to: combined_net_18.hd5\\assets\n"
     ]
    },
    {
     "name": "stdout",
     "output_type": "stream",
     "text": [
      "200/200 [==============================] - 9s 48ms/step - loss: 0.1976 - accuracy: 0.9369 - val_loss: 0.5524 - val_accuracy: 0.8467\n",
      "Epoch 20/30\n",
      "198/200 [============================>.] - ETA: 0s - loss: 0.1121 - accuracy: 0.9677"
     ]
    },
    {
     "name": "stderr",
     "output_type": "stream",
     "text": [
      "WARNING:absl:Found untraced functions such as _jit_compiled_convolution_op, conv_block_layer_call_fn, conv_block_layer_call_and_return_conditional_losses, conv_block_1_layer_call_fn, conv_block_1_layer_call_and_return_conditional_losses while saving (showing 5 of 46). These functions will not be directly callable after loading.\n"
     ]
    },
    {
     "name": "stdout",
     "output_type": "stream",
     "text": [
      "INFO:tensorflow:Assets written to: combined_net_19.hd5\\assets\n"
     ]
    },
    {
     "name": "stderr",
     "output_type": "stream",
     "text": [
      "INFO:tensorflow:Assets written to: combined_net_19.hd5\\assets\n"
     ]
    },
    {
     "name": "stdout",
     "output_type": "stream",
     "text": [
      "200/200 [==============================] - 9s 43ms/step - loss: 0.1112 - accuracy: 0.9680 - val_loss: 0.7856 - val_accuracy: 0.8067\n",
      "Epoch 21/30\n",
      "199/200 [============================>.] - ETA: 0s - loss: 0.0579 - accuracy: 0.9769"
     ]
    },
    {
     "name": "stderr",
     "output_type": "stream",
     "text": [
      "WARNING:absl:Found untraced functions such as _jit_compiled_convolution_op, conv_block_layer_call_fn, conv_block_layer_call_and_return_conditional_losses, conv_block_1_layer_call_fn, conv_block_1_layer_call_and_return_conditional_losses while saving (showing 5 of 46). These functions will not be directly callable after loading.\n"
     ]
    },
    {
     "name": "stdout",
     "output_type": "stream",
     "text": [
      "INFO:tensorflow:Assets written to: combined_net_20.hd5\\assets\n"
     ]
    },
    {
     "name": "stderr",
     "output_type": "stream",
     "text": [
      "INFO:tensorflow:Assets written to: combined_net_20.hd5\\assets\n"
     ]
    },
    {
     "name": "stdout",
     "output_type": "stream",
     "text": [
      "200/200 [==============================] - 8s 40ms/step - loss: 0.0577 - accuracy: 0.9770 - val_loss: 0.2737 - val_accuracy: 0.9333\n",
      "Epoch 22/30\n",
      "199/200 [============================>.] - ETA: 0s - loss: 0.0119 - accuracy: 0.9970"
     ]
    },
    {
     "name": "stderr",
     "output_type": "stream",
     "text": [
      "WARNING:absl:Found untraced functions such as _jit_compiled_convolution_op, conv_block_layer_call_fn, conv_block_layer_call_and_return_conditional_losses, conv_block_1_layer_call_fn, conv_block_1_layer_call_and_return_conditional_losses while saving (showing 5 of 46). These functions will not be directly callable after loading.\n"
     ]
    },
    {
     "name": "stdout",
     "output_type": "stream",
     "text": [
      "INFO:tensorflow:Assets written to: combined_net_21.hd5\\assets\n"
     ]
    },
    {
     "name": "stderr",
     "output_type": "stream",
     "text": [
      "INFO:tensorflow:Assets written to: combined_net_21.hd5\\assets\n"
     ]
    },
    {
     "name": "stdout",
     "output_type": "stream",
     "text": [
      "200/200 [==============================] - 9s 45ms/step - loss: 0.0118 - accuracy: 0.9970 - val_loss: 0.1678 - val_accuracy: 0.9467\n",
      "Epoch 23/30\n",
      "198/200 [============================>.] - ETA: 0s - loss: 0.0034 - accuracy: 1.0000"
     ]
    },
    {
     "name": "stderr",
     "output_type": "stream",
     "text": [
      "WARNING:absl:Found untraced functions such as _jit_compiled_convolution_op, conv_block_layer_call_fn, conv_block_layer_call_and_return_conditional_losses, conv_block_1_layer_call_fn, conv_block_1_layer_call_and_return_conditional_losses while saving (showing 5 of 46). These functions will not be directly callable after loading.\n"
     ]
    },
    {
     "name": "stdout",
     "output_type": "stream",
     "text": [
      "INFO:tensorflow:Assets written to: combined_net_22.hd5\\assets\n"
     ]
    },
    {
     "name": "stderr",
     "output_type": "stream",
     "text": [
      "INFO:tensorflow:Assets written to: combined_net_22.hd5\\assets\n"
     ]
    },
    {
     "name": "stdout",
     "output_type": "stream",
     "text": [
      "200/200 [==============================] - 8s 43ms/step - loss: 0.0033 - accuracy: 1.0000 - val_loss: 0.2116 - val_accuracy: 0.9400\n",
      "Epoch 24/30\n",
      "199/200 [============================>.] - ETA: 0s - loss: 0.0016 - accuracy: 1.0000"
     ]
    },
    {
     "name": "stderr",
     "output_type": "stream",
     "text": [
      "WARNING:absl:Found untraced functions such as _jit_compiled_convolution_op, conv_block_layer_call_fn, conv_block_layer_call_and_return_conditional_losses, conv_block_1_layer_call_fn, conv_block_1_layer_call_and_return_conditional_losses while saving (showing 5 of 46). These functions will not be directly callable after loading.\n"
     ]
    },
    {
     "name": "stdout",
     "output_type": "stream",
     "text": [
      "INFO:tensorflow:Assets written to: combined_net_23.hd5\\assets\n"
     ]
    },
    {
     "name": "stderr",
     "output_type": "stream",
     "text": [
      "INFO:tensorflow:Assets written to: combined_net_23.hd5\\assets\n"
     ]
    },
    {
     "name": "stdout",
     "output_type": "stream",
     "text": [
      "200/200 [==============================] - 9s 46ms/step - loss: 0.0016 - accuracy: 1.0000 - val_loss: 0.2219 - val_accuracy: 0.9400\n",
      "Epoch 25/30\n",
      "199/200 [============================>.] - ETA: 0s - loss: 0.0068 - accuracy: 0.9980"
     ]
    },
    {
     "name": "stderr",
     "output_type": "stream",
     "text": [
      "WARNING:absl:Found untraced functions such as _jit_compiled_convolution_op, conv_block_layer_call_fn, conv_block_layer_call_and_return_conditional_losses, conv_block_1_layer_call_fn, conv_block_1_layer_call_and_return_conditional_losses while saving (showing 5 of 46). These functions will not be directly callable after loading.\n"
     ]
    },
    {
     "name": "stdout",
     "output_type": "stream",
     "text": [
      "INFO:tensorflow:Assets written to: combined_net_24.hd5\\assets\n"
     ]
    },
    {
     "name": "stderr",
     "output_type": "stream",
     "text": [
      "INFO:tensorflow:Assets written to: combined_net_24.hd5\\assets\n"
     ]
    },
    {
     "name": "stdout",
     "output_type": "stream",
     "text": [
      "200/200 [==============================] - 8s 38ms/step - loss: 0.0067 - accuracy: 0.9980 - val_loss: 0.2062 - val_accuracy: 0.9400\n",
      "Epoch 26/30\n",
      "200/200 [==============================] - ETA: 0s - loss: 0.0021 - accuracy: 1.0000"
     ]
    },
    {
     "name": "stderr",
     "output_type": "stream",
     "text": [
      "WARNING:absl:Found untraced functions such as _jit_compiled_convolution_op, conv_block_layer_call_fn, conv_block_layer_call_and_return_conditional_losses, conv_block_1_layer_call_fn, conv_block_1_layer_call_and_return_conditional_losses while saving (showing 5 of 46). These functions will not be directly callable after loading.\n"
     ]
    },
    {
     "name": "stdout",
     "output_type": "stream",
     "text": [
      "INFO:tensorflow:Assets written to: combined_net_25.hd5\\assets\n"
     ]
    },
    {
     "name": "stderr",
     "output_type": "stream",
     "text": [
      "INFO:tensorflow:Assets written to: combined_net_25.hd5\\assets\n"
     ]
    },
    {
     "name": "stdout",
     "output_type": "stream",
     "text": [
      "200/200 [==============================] - 8s 41ms/step - loss: 0.0021 - accuracy: 1.0000 - val_loss: 0.1941 - val_accuracy: 0.9467\n",
      "Epoch 27/30\n",
      "199/200 [============================>.] - ETA: 0s - loss: 0.0132 - accuracy: 0.9980"
     ]
    },
    {
     "name": "stderr",
     "output_type": "stream",
     "text": [
      "WARNING:absl:Found untraced functions such as _jit_compiled_convolution_op, conv_block_layer_call_fn, conv_block_layer_call_and_return_conditional_losses, conv_block_1_layer_call_fn, conv_block_1_layer_call_and_return_conditional_losses while saving (showing 5 of 46). These functions will not be directly callable after loading.\n"
     ]
    },
    {
     "name": "stdout",
     "output_type": "stream",
     "text": [
      "INFO:tensorflow:Assets written to: combined_net_26.hd5\\assets\n"
     ]
    },
    {
     "name": "stderr",
     "output_type": "stream",
     "text": [
      "INFO:tensorflow:Assets written to: combined_net_26.hd5\\assets\n"
     ]
    },
    {
     "name": "stdout",
     "output_type": "stream",
     "text": [
      "200/200 [==============================] - 9s 43ms/step - loss: 0.0132 - accuracy: 0.9980 - val_loss: 0.1143 - val_accuracy: 0.9467\n",
      "Epoch 28/30\n",
      "199/200 [============================>.] - ETA: 0s - loss: 0.0790 - accuracy: 0.9698"
     ]
    },
    {
     "name": "stderr",
     "output_type": "stream",
     "text": [
      "WARNING:absl:Found untraced functions such as _jit_compiled_convolution_op, conv_block_layer_call_fn, conv_block_layer_call_and_return_conditional_losses, conv_block_1_layer_call_fn, conv_block_1_layer_call_and_return_conditional_losses while saving (showing 5 of 46). These functions will not be directly callable after loading.\n"
     ]
    },
    {
     "name": "stdout",
     "output_type": "stream",
     "text": [
      "INFO:tensorflow:Assets written to: combined_net_27.hd5\\assets\n"
     ]
    },
    {
     "name": "stderr",
     "output_type": "stream",
     "text": [
      "INFO:tensorflow:Assets written to: combined_net_27.hd5\\assets\n"
     ]
    },
    {
     "name": "stdout",
     "output_type": "stream",
     "text": [
      "200/200 [==============================] - 8s 40ms/step - loss: 0.0787 - accuracy: 0.9700 - val_loss: 1.0003 - val_accuracy: 0.7933\n",
      "Epoch 29/30\n",
      "198/200 [============================>.] - ETA: 0s - loss: 0.1047 - accuracy: 0.9707"
     ]
    },
    {
     "name": "stderr",
     "output_type": "stream",
     "text": [
      "WARNING:absl:Found untraced functions such as _jit_compiled_convolution_op, conv_block_layer_call_fn, conv_block_layer_call_and_return_conditional_losses, conv_block_1_layer_call_fn, conv_block_1_layer_call_and_return_conditional_losses while saving (showing 5 of 46). These functions will not be directly callable after loading.\n"
     ]
    },
    {
     "name": "stdout",
     "output_type": "stream",
     "text": [
      "INFO:tensorflow:Assets written to: combined_net_28.hd5\\assets\n"
     ]
    },
    {
     "name": "stderr",
     "output_type": "stream",
     "text": [
      "INFO:tensorflow:Assets written to: combined_net_28.hd5\\assets\n"
     ]
    },
    {
     "name": "stdout",
     "output_type": "stream",
     "text": [
      "200/200 [==============================] - 8s 42ms/step - loss: 0.1038 - accuracy: 0.9710 - val_loss: 0.1304 - val_accuracy: 0.9333\n",
      "Epoch 30/30\n",
      "200/200 [==============================] - ETA: 0s - loss: 0.0191 - accuracy: 0.9930"
     ]
    },
    {
     "name": "stderr",
     "output_type": "stream",
     "text": [
      "WARNING:absl:Found untraced functions such as _jit_compiled_convolution_op, conv_block_layer_call_fn, conv_block_layer_call_and_return_conditional_losses, conv_block_1_layer_call_fn, conv_block_1_layer_call_and_return_conditional_losses while saving (showing 5 of 46). These functions will not be directly callable after loading.\n"
     ]
    },
    {
     "name": "stdout",
     "output_type": "stream",
     "text": [
      "INFO:tensorflow:Assets written to: combined_net_29.hd5\\assets\n"
     ]
    },
    {
     "name": "stderr",
     "output_type": "stream",
     "text": [
      "INFO:tensorflow:Assets written to: combined_net_29.hd5\\assets\n"
     ]
    },
    {
     "name": "stdout",
     "output_type": "stream",
     "text": [
      "\b\b\b\b\b\b\b\b\b\b\b\b\b\b\b\b\b\b\b\b\b\b\b\b\b\b\b\b\b\b\b\b\b\b\b\b\b\b\b\b\b\b\b\b\b\b\b\b\b\b\b\b\b\b\b\b\b\b\b\b\b\b\b\b\b\b\b\b\b\b\b\b\b\b\b\b\b\b\b\b\b\b\b\b\r",
      "200/200 [==============================] - 8s 40ms/step - loss: 0.0191 - accuracy: 0.9930 - val_loss: 0.3419 - val_accuracy: 0.8933\n"
     ]
    }
   ],
   "source": [
    "our_model = MyModel(input_shape = (28,28,1))\n",
    "our_model.net_1.summary()\n",
    "our_model.fit(x_train_1,y_train_1,x_val_1,y_val_1)"
   ]
  },
  {
   "cell_type": "code",
   "execution_count": 8,
   "id": "5a04d980",
   "metadata": {},
   "outputs": [
    {
     "name": "stdout",
     "output_type": "stream",
     "text": [
      "Test loss: 0.203872948884964\n",
      "Test accuracy: 0.9399999976158142\n"
     ]
    }
   ],
   "source": [
    "score = our_model.net_1.evaluate(x_test_1, y_test_1, verbose=0)\n",
    "print(\"Test loss:\", score[0])\n",
    "print(\"Test accuracy:\", score[1])"
   ]
  }
 ],
 "metadata": {
  "kernelspec": {
   "display_name": "Python 3 (ipykernel)",
   "language": "python",
   "name": "python3"
  },
  "language_info": {
   "codemirror_mode": {
    "name": "ipython",
    "version": 3
   },
   "file_extension": ".py",
   "mimetype": "text/x-python",
   "name": "python",
   "nbconvert_exporter": "python",
   "pygments_lexer": "ipython3",
   "version": "3.9.7"
  }
 },
 "nbformat": 4,
 "nbformat_minor": 5
}
